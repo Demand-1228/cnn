{
 "cells": [
  {
   "cell_type": "code",
   "execution_count": 1,
   "id": "8b1d3dea",
   "metadata": {},
   "outputs": [],
   "source": [
    "import torch\n",
    "import numpy as np\n",
    "\n",
    "import torch.nn as nn\n",
    "import torch.nn.functional as F\n",
    "import torch.optim as optim\n",
    "from torchvision import datasets\n",
    "import torchvision.transforms as transforms\n",
    "from torch.utils.data.dataset import Dataset"
   ]
  },
  {
   "cell_type": "code",
   "execution_count": 2,
   "id": "d367fe5e",
   "metadata": {},
   "outputs": [],
   "source": [
    "input_size = 28\n",
    "num_classes = 10\n",
    "num_epochs =3\n",
    "batch_size = 64\n",
    "\n",
    "transform = transforms.ToTensor()\n",
    "train_dataset = datasets.MNIST(root='data', train=True,\n",
    "                                   download=True, transform=transform)\n",
    "test_dataset = datasets.MNIST(root='data', train=False,\n",
    "                                  download=True, transform=transform)\n"
   ]
  },
  {
   "cell_type": "code",
   "execution_count": 3,
   "id": "0b34cfa3",
   "metadata": {},
   "outputs": [],
   "source": [
    "#构造batch数据\n",
    "train_loader = torch.utils.data.DataLoader(dataset = train_dataset,\n",
    "                                          batch_size = batch_size,\n",
    "                                          shuffle = True)\n",
    "test_loader = torch.utils.data.DataLoader(dataset = test_dataset,\n",
    "                                          batch_size = batch_size,\n",
    "                                          shuffle = True)"
   ]
  },
  {
   "cell_type": "code",
   "execution_count": 109,
   "id": "bc84c2b6",
   "metadata": {},
   "outputs": [
    {
     "data": {
      "image/png": "[encoded data removed]",
      "text/plain": [
       "<Figure size 1440x288 with 10 Axes>"
      ]
     },
     "metadata": {
      "needs_background": "light"
     },
     "output_type": "display_data"
    }
   ],
   "source": [
    "import matplotlib.pyplot as plt\n",
    "\n",
    "def show(nums):\n",
    "    plt.figure(figsize=(20*nums/10, 4*nums/10))\n",
    "    for i in range(nums):\n",
    "        num = np.random.randint(0,10000)\n",
    "        img = train_dataset[num][0].numpy()\n",
    "        img = img.transpose(1,2,0)\n",
    "        \n",
    "        plt.subplot(int(nums/10),10,i+1)\n",
    "        plt.axis('off')\n",
    "        plt.imshow(img,cmap='gray')\n",
    "        plt.title(train_dataset[num][1])      \n",
    "show(10)   \n"
   ]
  },
  {
   "cell_type": "markdown",
   "id": "c66ccb47",
   "metadata": {},
   "source": [
    "# 构建卷积网络\n",
    "卷积结果计算公式：（H/W-C+2P）/S + 1"
   ]
  },
  {
   "cell_type": "code",
   "execution_count": 4,
   "id": "e943088e",
   "metadata": {},
   "outputs": [],
   "source": [
    "class CNN(nn.Module):\n",
    "    def __init__(self):\n",
    "        super(CNN, self).__init__()\n",
    "        self.conv1 = nn.Sequential(nn.Conv2d(\n",
    "                in_channels = 1,    #输入为（1，28，28）\n",
    "                out_channels = 16,  #输出为16个特征图\n",
    "                kernel_size = 5,\n",
    "                stride = 1,\n",
    "                padding = 2,),\n",
    "            nn.ReLU(),\n",
    "            nn.MaxPool2d(kernel_size = 2))\n",
    "        self.conv2 = nn.Sequential(nn.Conv2d(\n",
    "                in_channels = 16,    #输入为（16，14，14）\n",
    "                out_channels = 32,  #输出为32个特征图\n",
    "                kernel_size = 5,\n",
    "                stride = 1,\n",
    "                padding = 2,),\n",
    "            nn.ReLU(),\n",
    "            nn.MaxPool2d(kernel_size = 2))#输出为（32，7，7）\n",
    "        self.out = nn.Linear(32*7*7, 10)\n",
    "    \n",
    "    def forward(self,x):\n",
    "        x = self.conv1(x)\n",
    "        x = self.conv2(x)\n",
    "        x = x.view(x.size(0), -1)\n",
    "        output = self.out(x)\n",
    "        return output\n",
    "        \n",
    "        \n",
    "    "
   ]
  },
  {
   "cell_type": "code",
   "execution_count": 5,
   "id": "678a2735",
   "metadata": {},
   "outputs": [],
   "source": [
    "def acc(pre, labels):\n",
    "    pred = torch.max(pre.data,1)[1] #返回最大值和索引\n",
    "    rights = pred.eq(labels.data.view_as(pred)).sum()\n",
    "    return rights, len(labels)"
   ]
  },
  {
   "cell_type": "code",
   "execution_count": 127,
   "id": "21fc2d50",
   "metadata": {},
   "outputs": [
    {
     "name": "stdout",
     "output_type": "stream",
     "text": [
      "tensor([[[1, 2],\n",
      "         [3, 4]]])\n",
      "tensor([[1, 1, 3, 3]])\n",
      "tensor([[ True, False,  True, False]])\n"
     ]
    }
   ],
   "source": [
    "x = torch.tensor([[[1, 2], [3, 4]]])\n",
    "y = torch.tensor([[1, 1, 3, 3]])\n",
    "out = torch.eq(x.view_as(y), y)\n",
    "print(x.data)\n",
    "print(y)\n",
    "print(out)\n"
   ]
  },
  {
   "cell_type": "code",
   "execution_count": 7,
   "id": "71dac331",
   "metadata": {},
   "outputs": [
    {
     "name": "stdout",
     "output_type": "stream",
     "text": [
      "epoch:0[0/60000 (0%)]\t loss: 2.317341\t train_acc:14.06%\t val_acc: 14.06%\n",
      "epoch:0[6400/60000 (11%)]\t loss: 0.462221\t train_acc:77.01%\t val_acc: 85.94%\n",
      "epoch:0[12800/60000 (21%)]\t loss: 0.111143\t train_acc:84.93%\t val_acc: 98.44%\n",
      "epoch:0[19200/60000 (32%)]\t loss: 0.111976\t train_acc:88.35%\t val_acc: 93.75%\n",
      "epoch:0[25600/60000 (43%)]\t loss: 0.122826\t train_acc:90.36%\t val_acc: 96.88%\n",
      "epoch:0[32000/60000 (53%)]\t loss: 0.090978\t train_acc:91.72%\t val_acc: 95.31%\n",
      "epoch:0[38400/60000 (64%)]\t loss: 0.077593\t train_acc:92.65%\t val_acc: 98.44%\n",
      "epoch:0[44800/60000 (75%)]\t loss: 0.099151\t train_acc:93.35%\t val_acc: 98.44%\n",
      "epoch:0[51200/60000 (85%)]\t loss: 0.083084\t train_acc:93.86%\t val_acc: 98.44%\n",
      "epoch:0[57600/60000 (96%)]\t loss: 0.006684\t train_acc:94.28%\t val_acc: 100.00%\n",
      "epoch:1[0/60000 (0%)]\t loss: 0.179944\t train_acc:93.75%\t val_acc: 93.75%\n",
      "epoch:1[6400/60000 (11%)]\t loss: 0.026606\t train_acc:97.96%\t val_acc: 100.00%\n",
      "epoch:1[12800/60000 (21%)]\t loss: 0.058522\t train_acc:98.10%\t val_acc: 96.88%\n",
      "epoch:1[19200/60000 (32%)]\t loss: 0.010608\t train_acc:98.21%\t val_acc: 100.00%\n",
      "epoch:1[25600/60000 (43%)]\t loss: 0.041593\t train_acc:98.21%\t val_acc: 98.44%\n",
      "epoch:1[32000/60000 (53%)]\t loss: 0.148012\t train_acc:98.25%\t val_acc: 96.88%\n",
      "epoch:1[38400/60000 (64%)]\t loss: 0.096035\t train_acc:98.20%\t val_acc: 95.31%\n",
      "epoch:1[44800/60000 (75%)]\t loss: 0.017230\t train_acc:98.24%\t val_acc: 100.00%\n",
      "epoch:1[51200/60000 (85%)]\t loss: 0.065868\t train_acc:98.28%\t val_acc: 96.88%\n",
      "epoch:1[57600/60000 (96%)]\t loss: 0.010612\t train_acc:98.28%\t val_acc: 100.00%\n",
      "epoch:2[0/60000 (0%)]\t loss: 0.048707\t train_acc:96.88%\t val_acc: 96.88%\n",
      "epoch:2[6400/60000 (11%)]\t loss: 0.020836\t train_acc:98.79%\t val_acc: 100.00%\n",
      "epoch:2[12800/60000 (21%)]\t loss: 0.022384\t train_acc:98.83%\t val_acc: 98.44%\n",
      "epoch:2[19200/60000 (32%)]\t loss: 0.032267\t train_acc:98.77%\t val_acc: 98.44%\n",
      "epoch:2[25600/60000 (43%)]\t loss: 0.005102\t train_acc:98.76%\t val_acc: 100.00%\n",
      "epoch:2[32000/60000 (53%)]\t loss: 0.079357\t train_acc:98.79%\t val_acc: 96.88%\n",
      "epoch:2[38400/60000 (64%)]\t loss: 0.010024\t train_acc:98.78%\t val_acc: 100.00%\n",
      "epoch:2[44800/60000 (75%)]\t loss: 0.018580\t train_acc:98.79%\t val_acc: 98.44%\n",
      "epoch:2[51200/60000 (85%)]\t loss: 0.016298\t train_acc:98.79%\t val_acc: 98.44%\n",
      "epoch:2[57600/60000 (96%)]\t loss: 0.017428\t train_acc:98.78%\t val_acc: 100.00%\n"
     ]
    }
   ],
   "source": [
    "net = CNN()\n",
    "#\n",
    "criterion = nn.CrossEntropyLoss()\n",
    "\n",
    "optimizer = optim.Adam(net.parameters(), lr=0.001)\n",
    "batch_size = 64\n",
    "for epoch in range(num_epochs):\n",
    "    train_rights = []\n",
    "    \n",
    "    for batch_idx, (data, target) in enumerate(train_loader):\n",
    "        net.train()\n",
    "        output = net(data)\n",
    "        loss = criterion(output, target)\n",
    "        optimizer.zero_grad()\n",
    "        loss.backward()\n",
    "        optimizer.step()\n",
    "        right = acc(output, target)\n",
    "        train_rights.append(right)\n",
    "        \n",
    "        if batch_idx % 100 == 0:\n",
    "            net.eval()\n",
    "            val_rights = []\n",
    "            \n",
    "            for (data, taget) in test_loader:\n",
    "                ouput = net(data)\n",
    "                right = acc(output ,target)\n",
    "                val_rights.append(right)\n",
    "            \n",
    "            train_r = (sum([tup[0] for tup in train_rights]), sum([tup[1] for tup in train_rights]))\n",
    "            val_r = (sum([tup[0] for tup in val_rights]), sum([tup[1] for tup in val_rights]))\n",
    "            print('epoch:{}[{}/{} ({:.0f}%)]\\t loss: {:.6f}\\t train_acc:{:.2f}%\\t val_acc: {:.2f}%'.format(\n",
    "            epoch, batch_idx, len(train_loader.dataset),\n",
    "            100. * batch_idx / len(train_loader),\n",
    "            loss.data,\n",
    "            100. * train_r[0].numpy() / train_r[1],\n",
    "            100. * val_r[0].numpy() / val_r[1]))"
   ]
  },
  {
   "cell_type": "code",
   "execution_count": null,
   "id": "f223ddd5",
   "metadata": {},
   "outputs": [],
   "source": []
  }
 ],
 "metadata": {
  "kernelspec": {
   "display_name": "Python 3",
   "language": "python",
   "name": "python3"
  },
  "language_info": {
   "codemirror_mode": {
    "name": "ipython",
    "version": 3
   },
   "file_extension": ".py",
   "mimetype": "text/x-python",
   "name": "python",
   "nbconvert_exporter": "python",
   "pygments_lexer": "ipython3",
   "version": "3.8.8"
  }
 },
 "nbformat": 4,
 "nbformat_minor": 5
}
