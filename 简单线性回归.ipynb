{
 "cells": [
  {
   "cell_type": "code",
   "execution_count": 8,
   "id": "5b164038",
   "metadata": {},
   "outputs": [],
   "source": [
    "import torch\n",
    "import torch.nn as nn\n",
    "import numpy as np\n",
    "class LinearRegressionModel(nn.Module):\n",
    "    def __init__(self, input_dim, output_dim):\n",
    "        super().__init__()\n",
    "        self.linear = nn.Linear(input_dim, output_dim)\n",
    "    \n",
    "    def forward(self,x):\n",
    "        out = self.linear(x)\n",
    "        return out"
   ]
  },
  {
   "cell_type": "code",
   "execution_count": 6,
   "id": "466d07ae",
   "metadata": {},
   "outputs": [],
   "source": [
    "x_value = [i for i in range(11)]\n",
    "x_train = np.array(x_value, dtype = np.float32)\n",
    "x_train = x_train.reshape(-1,1)\n",
    "\n",
    "y_value = [i*2+1 for i in range(11)]\n",
    "y_train = np.array(y_value, dtype = np.float32)\n",
    "y_train = y_train.reshape(-1,1)\n",
    "\n",
    "model = LinearRegressionModel(input_dim = 1 ,output_dim = 1)\n",
    "\n",
    "device = torch.device(\"cuda:0\" )\n",
    "model.to(device)\n",
    "\n",
    "epochs = 100\n",
    "learning_rate = 0.01\n",
    "optimizer = torch.optim.SGD(model.parameters(), lr = learning_rate)\n",
    "criterion = nn.MSELoss()"
   ]
  },
  {
   "cell_type": "code",
   "execution_count": 7,
   "id": "d46111e9",
   "metadata": {},
   "outputs": [
    {
     "name": "stdout",
     "output_type": "stream",
     "text": [
      "epoch 5,loss 0.20563340187072754\n",
      "epoch 10,loss 0.1818457543849945\n",
      "epoch 15,loss 0.17191672325134277\n",
      "epoch 20,loss 0.16252964735031128\n",
      "epoch 25,loss 0.1536555290222168\n",
      "epoch 30,loss 0.14526568353176117\n",
      "epoch 35,loss 0.13733406364917755\n",
      "epoch 40,loss 0.12983550131320953\n",
      "epoch 45,loss 0.12274634838104248\n",
      "epoch 50,loss 0.1160442978143692\n",
      "epoch 55,loss 0.10970813035964966\n",
      "epoch 60,loss 0.10371794551610947\n",
      "epoch 65,loss 0.09805484861135483\n",
      "epoch 70,loss 0.0927010253071785\n",
      "epoch 75,loss 0.08763941377401352\n",
      "epoch 80,loss 0.08285416662693024\n",
      "epoch 85,loss 0.07833023369312286\n",
      "epoch 90,loss 0.0740533322095871\n",
      "epoch 95,loss 0.07000996917486191\n",
      "epoch 100,loss 0.0661872997879982\n"
     ]
    }
   ],
   "source": [
    "for epoch in range(epochs):\n",
    "    epoch +=1\n",
    "    inputs = torch.from_numpy(x_train).to(device)\n",
    "    labels = torch.from_numpy(y_train).to(device)\n",
    "\n",
    "    optimizer.zero_grad()\n",
    "\n",
    "    outputs = model(inputs)\n",
    "\n",
    "    loss = criterion(outputs, labels)\n",
    "\n",
    "    loss.backward()\n",
    "\n",
    "    optimizer.step()\n",
    "    if epoch % 5 ==0:\n",
    "        print('epoch {},loss {}'.format(epoch, loss.item()))"
   ]
  },
  {
   "cell_type": "code",
   "execution_count": 5,
   "id": "6226a271",
   "metadata": {},
   "outputs": [
    {
     "name": "stdout",
     "output_type": "stream",
     "text": [
      "[[ 0.16034712]\n",
      " [ 2.2812648 ]\n",
      " [ 4.402182  ]\n",
      " [ 6.5231    ]\n",
      " [ 8.644017  ]\n",
      " [10.764935  ]\n",
      " [12.885853  ]\n",
      " [15.00677   ]\n",
      " [17.127687  ]\n",
      " [19.248606  ]\n",
      " [21.369522  ]]\n"
     ]
    }
   ],
   "source": [
    "predicted = model(torch.from_numpy(x_train)).data.numpy()\n",
    "print (predicted)"
   ]
  },
  {
   "cell_type": "code",
   "execution_count": 6,
   "id": "b1e9c30a",
   "metadata": {},
   "outputs": [],
   "source": [
    "torch.save(model.state_dict(), 'model.pkl')"
   ]
  },
  {
   "cell_type": "code",
   "execution_count": 7,
   "id": "c382b1ec",
   "metadata": {},
   "outputs": [
    {
     "data": {
      "text/plain": [
       "<All keys matched successfully>"
      ]
     },
     "execution_count": 7,
     "metadata": {},
     "output_type": "execute_result"
    }
   ],
   "source": [
    "model.load_state_dict(torch.load('model.pkl'))"
   ]
  },
  {
   "cell_type": "code",
   "execution_count": 13,
   "id": "e5380317",
   "metadata": {},
   "outputs": [
    {
     "ename": "ValueError",
     "evalue": "Cannot find v0.4.3 in https://github.com/pytorch/vision. If it's a commit from a forked repo, please call hub.load() with forked repo directly.",
     "output_type": "error",
     "traceback": [
      "\u001b[1;31m---------------------------------------------------------------------------\u001b[0m",
      "\u001b[1;31mValueError\u001b[0m                                Traceback (most recent call last)",
      "\u001b[1;32m<ipython-input-13-f980378c161c>\u001b[0m in \u001b[0;36m<module>\u001b[1;34m\u001b[0m\n\u001b[1;32m----> 1\u001b[1;33m \u001b[0mtorch\u001b[0m\u001b[1;33m.\u001b[0m\u001b[0mhub\u001b[0m\u001b[1;33m.\u001b[0m\u001b[0mlist\u001b[0m\u001b[1;33m(\u001b[0m\u001b[1;34m\"pytorch/vision:v0.4.3\"\u001b[0m\u001b[1;33m)\u001b[0m\u001b[1;33m\u001b[0m\u001b[1;33m\u001b[0m\u001b[0m\n\u001b[0m",
      "\u001b[1;32mC:\\ProgramData\\Anaconda3\\lib\\site-packages\\torch\\hub.py\u001b[0m in \u001b[0;36mlist\u001b[1;34m(github, force_reload, skip_validation, trust_repo)\u001b[0m\n\u001b[0;32m    393\u001b[0m         \u001b[1;33m>>\u001b[0m\u001b[1;33m>\u001b[0m \u001b[0mentrypoints\u001b[0m \u001b[1;33m=\u001b[0m \u001b[0mtorch\u001b[0m\u001b[1;33m.\u001b[0m\u001b[0mhub\u001b[0m\u001b[1;33m.\u001b[0m\u001b[0mlist\u001b[0m\u001b[1;33m(\u001b[0m\u001b[1;34m'pytorch/vision'\u001b[0m\u001b[1;33m,\u001b[0m \u001b[0mforce_reload\u001b[0m\u001b[1;33m=\u001b[0m\u001b[1;32mTrue\u001b[0m\u001b[1;33m)\u001b[0m\u001b[1;33m\u001b[0m\u001b[1;33m\u001b[0m\u001b[0m\n\u001b[0;32m    394\u001b[0m     \"\"\"\n\u001b[1;32m--> 395\u001b[1;33m     repo_dir = _get_cache_or_reload(github, force_reload, trust_repo, \"list\", verbose=True,\n\u001b[0m\u001b[0;32m    396\u001b[0m                                     skip_validation=skip_validation)\n\u001b[0;32m    397\u001b[0m \u001b[1;33m\u001b[0m\u001b[0m\n",
      "\u001b[1;32mC:\\ProgramData\\Anaconda3\\lib\\site-packages\\torch\\hub.py\u001b[0m in \u001b[0;36m_get_cache_or_reload\u001b[1;34m(github, force_reload, trust_repo, calling_fn, verbose, skip_validation)\u001b[0m\n\u001b[0;32m    201\u001b[0m         \u001b[1;31m# Validate the tag/branch is from the original repo instead of a forked repo\u001b[0m\u001b[1;33m\u001b[0m\u001b[1;33m\u001b[0m\u001b[1;33m\u001b[0m\u001b[0m\n\u001b[0;32m    202\u001b[0m         \u001b[1;32mif\u001b[0m \u001b[1;32mnot\u001b[0m \u001b[0mskip_validation\u001b[0m\u001b[1;33m:\u001b[0m\u001b[1;33m\u001b[0m\u001b[1;33m\u001b[0m\u001b[0m\n\u001b[1;32m--> 203\u001b[1;33m             \u001b[0m_validate_not_a_forked_repo\u001b[0m\u001b[1;33m(\u001b[0m\u001b[0mrepo_owner\u001b[0m\u001b[1;33m,\u001b[0m \u001b[0mrepo_name\u001b[0m\u001b[1;33m,\u001b[0m \u001b[0mref\u001b[0m\u001b[1;33m)\u001b[0m\u001b[1;33m\u001b[0m\u001b[1;33m\u001b[0m\u001b[0m\n\u001b[0m\u001b[0;32m    204\u001b[0m \u001b[1;33m\u001b[0m\u001b[0m\n\u001b[0;32m    205\u001b[0m         \u001b[0mcached_file\u001b[0m \u001b[1;33m=\u001b[0m \u001b[0mos\u001b[0m\u001b[1;33m.\u001b[0m\u001b[0mpath\u001b[0m\u001b[1;33m.\u001b[0m\u001b[0mjoin\u001b[0m\u001b[1;33m(\u001b[0m\u001b[0mhub_dir\u001b[0m\u001b[1;33m,\u001b[0m \u001b[0mnormalized_br\u001b[0m \u001b[1;33m+\u001b[0m \u001b[1;34m'.zip'\u001b[0m\u001b[1;33m)\u001b[0m\u001b[1;33m\u001b[0m\u001b[1;33m\u001b[0m\u001b[0m\n",
      "\u001b[1;32mC:\\ProgramData\\Anaconda3\\lib\\site-packages\\torch\\hub.py\u001b[0m in \u001b[0;36m_validate_not_a_forked_repo\u001b[1;34m(repo_owner, repo_name, ref)\u001b[0m\n\u001b[0;32m    168\u001b[0m                     \u001b[1;32mreturn\u001b[0m\u001b[1;33m\u001b[0m\u001b[1;33m\u001b[0m\u001b[0m\n\u001b[0;32m    169\u001b[0m \u001b[1;33m\u001b[0m\u001b[0m\n\u001b[1;32m--> 170\u001b[1;33m     raise ValueError(f'Cannot find {ref} in https://github.com/{repo_owner}/{repo_name}. '\n\u001b[0m\u001b[0;32m    171\u001b[0m                      'If it\\'s a commit from a forked repo, please call hub.load() with forked repo directly.')\n\u001b[0;32m    172\u001b[0m \u001b[1;33m\u001b[0m\u001b[0m\n",
      "\u001b[1;31mValueError\u001b[0m: Cannot find v0.4.3 in https://github.com/pytorch/vision. If it's a commit from a forked repo, please call hub.load() with forked repo directly."
     ]
    }
   ],
   "source": [
    "torch.hub.list(\"pytorch/vision:v0.4.3\")"
   ]
  },
  {
   "cell_type": "code",
   "execution_count": null,
   "id": "05566b8f",
   "metadata": {},
   "outputs": [],
   "source": []
  }
 ],
 "metadata": {
  "kernelspec": {
   "display_name": "Python 3",
   "language": "python",
   "name": "python3"
  },
  "language_info": {
   "codemirror_mode": {
    "name": "ipython",
    "version": 3
   },
   "file_extension": ".py",
   "mimetype": "text/x-python",
   "name": "python",
   "nbconvert_exporter": "python",
   "pygments_lexer": "ipython3",
   "version": "3.8.8"
  }
 },
 "nbformat": 4,
 "nbformat_minor": 5
}
